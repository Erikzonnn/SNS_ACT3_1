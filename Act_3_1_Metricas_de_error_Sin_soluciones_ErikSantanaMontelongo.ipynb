{
  "nbformat": 4,
  "nbformat_minor": 0,
  "metadata": {
    "colab": {
      "provenance": []
    },
    "kernelspec": {
      "name": "python3",
      "display_name": "Python 3"
    },
    "language_info": {
      "name": "python"
    }
  },
  "cells": [
    {
      "cell_type": "markdown",
      "source": [
        "#**ERIK SANTANA MONTELONGO**\n",
        "\n",
        "\n",
        "---\n",
        "\n"
      ],
      "metadata": {
        "id": "b6mUJkR0s7CH"
      }
    },
    {
      "cell_type": "markdown",
      "source": [
        "24_25\n",
        "\n",
        "Actividad 3.1 - Métricas de error para los problemas de regresión\n",
        "\n",
        "A partir de los ejemplos indicados realizar los ejercicios propuestos"
      ],
      "metadata": {
        "id": "irnc2RYVuYVU"
      }
    },
    {
      "cell_type": "markdown",
      "source": [
        "# **EJERCICIO 1**\n"
      ],
      "metadata": {
        "id": "9vsY7DX9tHrm"
      }
    },
    {
      "cell_type": "code",
      "source": [
        "# Ejer 1: Crear dos vectores/arrays de valores ciertos y valores previstos, y calcular el mae.\n",
        "# ¿Qué valores deberían de tener el array pred para que el error fuese 0? ¿y para que error fuese de 0.25?\n",
        "\n",
        "from sklearn.metrics import mean_absolute_error\n",
        "import numpy as np\n",
        "\n",
        "# Valores true\n",
        "true = np.array([1, 2, 3, 4, 5])\n",
        "\n",
        "pred_0 = np.array([1, 2, 3, 4, 5])  # MAE = 0\n",
        "mae_0 = mean_absolute_error(true, pred_0)\n",
        "print(\"MAE con error 0:\", mae_0)\n",
        "\n",
        "pred_025 = np.array([2, 2, 2.75, 4, 5])  # MAE = 0.25\n",
        "mae_025 = mean_absolute_error(true, pred_025)\n",
        "print(\"MAE con error 0.25:\", mae_025)\n"
      ],
      "metadata": {
        "id": "67XK1bXegMai",
        "colab": {
          "base_uri": "https://localhost:8080/"
        },
        "outputId": "4519f2e4-43b4-43a4-83e8-d608348e7ebb"
      },
      "execution_count": null,
      "outputs": [
        {
          "output_type": "stream",
          "name": "stdout",
          "text": [
            "MAE con error 0: 0.0\n",
            "MAE con error 0.25: 0.25\n"
          ]
        }
      ]
    },
    {
      "cell_type": "markdown",
      "source": [
        "# **EJERCICIO 2**"
      ],
      "metadata": {
        "id": "rWMXjkJe0iOb"
      }
    },
    {
      "cell_type": "code",
      "source": [
        "# Ejer 2: Crear dos matrices/arrays de valores ciertos y valores previstos, y calcular el mae.\n",
        "# ¿Qué valores deberían de tener el array pred para que el error fuese 0? ¿y para que error fuese de 0.33?\n",
        "\n",
        "from sklearn.metrics import mean_absolute_error\n",
        "\n",
        "# Valores true\n",
        "true_33 = [[1, 2], [3, 4], [5, 6]]\n",
        "\n",
        "pred_00 = [[1, 2], [3, 4], [5, 6]] # MAE = 0\n",
        "mae_00 = mean_absolute_error(true_33, pred_00)\n",
        "print(\"MAE con error 0:\", mae_00)\n",
        "\n",
        "pred_33 = [[2, 2], [2.75, 3.6,], [5, 6.33]] # MAE = 0,33\n",
        "mae_33 = mean_absolute_error(true_33, pred_33)\n",
        "print(\"MAE con error 0.33:\", mae_33)\n"
      ],
      "metadata": {
        "id": "LnPx6A4Astfq",
        "colab": {
          "base_uri": "https://localhost:8080/"
        },
        "outputId": "f8343c3c-1a19-459d-9e57-2ce83ca775c8"
      },
      "execution_count": null,
      "outputs": [
        {
          "output_type": "stream",
          "name": "stdout",
          "text": [
            "MAE con error 0: 0.0\n",
            "MAE con error 0.33: 0.33\n"
          ]
        }
      ]
    },
    {
      "cell_type": "markdown",
      "source": [
        "# **EJERCICIO 3**"
      ],
      "metadata": {
        "id": "f2kxIJxj08w3"
      }
    },
    {
      "cell_type": "code",
      "source": [
        "# Ejer 3: Crear dos vectores/arrays de valores ciertos y valores previstos, y calcular el mse.\n",
        "# ¿Qué valores deberían de tener el array pred para que el error fuese 0? ¿y para que error fuese de 0.25?\n",
        "# Nota: Es muy interesante comparar los resultados al aplicaer mae y mse sobre el mismo conjunto de datos. Podrás obervar\n",
        "# que mse \"penaliza más\" (es decir, el número que se obtiene es mayor) con las diferencias entre los valores originales y los predichos que mae\n",
        "\n",
        "from sklearn.metrics import mean_squared_error\n",
        "import numpy as np\n",
        "\n",
        "#Valores True\n",
        "true_0025 = [1, 2, 3, 4, 5]\n",
        "\n",
        "# MSE = 0\n",
        "pred_000 = true_0025\n",
        "\n",
        "# MSE = 0.25\n",
        "pred_0025 = y_true + np.array([0.5, -0.5, 0.5, -0.5, 0.5])\n",
        "\n",
        "mse_0 = mean_squared_error(true_0025, pred_000)\n",
        "mse_025 = mean_squared_error(true_0025, pred_0025)\n",
        "\n",
        "print(\"MSE error 0:\", mse_0)\n",
        "print(\"MSE error 0.25:\", mse_025)\n"
      ],
      "metadata": {
        "id": "FLZt6j17u7sE",
        "colab": {
          "base_uri": "https://localhost:8080/"
        },
        "outputId": "24d6a4f5-9006-4ef9-b886-6044a6f6af49"
      },
      "execution_count": 3,
      "outputs": [
        {
          "output_type": "stream",
          "name": "stdout",
          "text": [
            "MSE error 0: 0.0\n",
            "MSE error 0.25: 0.25\n"
          ]
        }
      ]
    },
    {
      "cell_type": "markdown",
      "source": [
        "# **EJERCICIO 4 (REPETIDO ?)**"
      ],
      "metadata": {
        "id": "7EfTEb4atWLo"
      }
    },
    {
      "cell_type": "code",
      "source": [
        "# Ejer 4: Crear dos matrices/arrays de valores ciertos y valores previstos, y calcular el mae.\n",
        "# ¿Qué valores deberían de tener el array pred para que el error fuese 0? ¿y para que error fuese de 0.33?\n"
      ],
      "metadata": {
        "id": "M9nZd4nLvIRB"
      },
      "execution_count": null,
      "outputs": []
    },
    {
      "cell_type": "markdown",
      "source": [
        "# **EJERCICIO 5**"
      ],
      "metadata": {
        "id": "8uHNNkzLtsIz"
      }
    },
    {
      "cell_type": "code",
      "source": [
        "# Ejer 5: Crear dos vectores/arrays de valores ciertos y valores previstos, y calcular el mape.\n",
        "# ¿Qué valores deberían de tener el array pred para que el error fuese 0?\n",
        "from sklearn.metrics import mean_absolute_percentage_error\n",
        "\n",
        "# Valores reales\n",
        "valor_real = [100, 200, 300, 400, 500]\n",
        "\n",
        "# MAPE = 0\n",
        "mape_0 = valor_real\n",
        "\n",
        "mape_00 = mean_absolute_percentage_error(valor_real, mape_0)\n",
        "\n",
        "print(\"MAPE (error 0):\", mape_00)"
      ],
      "metadata": {
        "id": "0vsYXdRqB0TE",
        "colab": {
          "base_uri": "https://localhost:8080/"
        },
        "outputId": "cc618db9-282b-4eec-af7a-4e94214d258a"
      },
      "execution_count": 4,
      "outputs": [
        {
          "output_type": "stream",
          "name": "stdout",
          "text": [
            "MAPE (error 0): 0.0\n"
          ]
        }
      ]
    },
    {
      "cell_type": "markdown",
      "source": [
        "# **EJERCICIO 6**"
      ],
      "metadata": {
        "id": "8wRFrV1guR7b"
      }
    },
    {
      "cell_type": "code",
      "source": [
        "# Ejer 6: Crear dos matrices/arrays de valores ciertos y valores previstos, y calcular el MAPE.\n",
        "# ¿Qué valores deberían de tener el array pred para que el error fuese 0?\n",
        "\n",
        "from sklearn.metrics import mean_absolute_percentage_error\n",
        "\n",
        "# Valores reales\n",
        "matriz_true = [[100, 200, 300], [400, 500, 600]]\n",
        "\n",
        "# MAPE = 0\n",
        "matriz_0 = [[100, 200, 300], [400, 500, 600]]\n",
        "\n",
        "matriz_00 = mean_absolute_percentage_error(matriz_true, matriz_0)\n",
        "\n",
        "print(\"MAPE (error 0):\", matriz_00)\n"
      ],
      "metadata": {
        "id": "085pmFVO-cA3",
        "colab": {
          "base_uri": "https://localhost:8080/"
        },
        "outputId": "6f1b01ce-1a58-4516-8984-fe9b29d17946"
      },
      "execution_count": 5,
      "outputs": [
        {
          "output_type": "stream",
          "name": "stdout",
          "text": [
            "MAPE (error 0): 0.0\n"
          ]
        }
      ]
    }
  ]
}